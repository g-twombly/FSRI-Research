{
  "nbformat": 4,
  "nbformat_minor": 0,
  "metadata": {
    "colab": {
      "name": "batmanTOI1130.ipynb",
      "provenance": [],
      "collapsed_sections": [],
      "include_colab_link": true
    },
    "kernelspec": {
      "name": "python3",
      "display_name": "Python 3"
    }
  },
  "cells": [
    {
      "cell_type": "markdown",
      "metadata": {
        "id": "view-in-github",
        "colab_type": "text"
      },
      "source": [
        "<a href=\"https://colab.research.google.com/github/g-twombly/FSRI-Research/blob/master/batmanTOI1130.ipynb\" target=\"_parent\"><img src=\"https://colab.research.google.com/assets/colab-badge.svg\" alt=\"Open In Colab\"/></a>"
      ]
    },
    {
      "cell_type": "code",
      "metadata": {
        "id": "Qvr5KZG4jdGF",
        "colab_type": "code",
        "colab": {
          "base_uri": "https://localhost:8080/",
          "height": 211
        },
        "outputId": "8a939445-e908-4379-c7bc-5977e7fcf27e"
      },
      "source": [
        "%pip install batman-package"
      ],
      "execution_count": null,
      "outputs": [
        {
          "output_type": "stream",
          "text": [
            "Collecting batman-package\n",
            "  Downloading https://files.pythonhosted.org/packages/f3/59/a1ca181cafde7c99099da61cd578efc90c4319899a0c31c72241d50b0783/batman-package-2.4.6.tar.gz\n",
            "Requirement already satisfied: numpy in /usr/local/lib/python3.6/dist-packages (from batman-package) (1.18.5)\n",
            "Building wheels for collected packages: batman-package\n",
            "  Building wheel for batman-package (setup.py) ... \u001b[?25l\u001b[?25hdone\n",
            "  Created wheel for batman-package: filename=batman_package-2.4.6-cp36-cp36m-linux_x86_64.whl size=212721 sha256=41db2a2d628d62f75a79f5ce870e16cb724af2683907e6079fe16c5e4c6804be\n",
            "  Stored in directory: /root/.cache/pip/wheels/f6/1e/90/3b68a7004b60a358389fe48c9f9f9c0d7293e01ea562f7116f\n",
            "Successfully built batman-package\n",
            "Installing collected packages: batman-package\n",
            "Successfully installed batman-package-2.4.6\n"
          ],
          "name": "stdout"
        }
      ]
    },
    {
      "cell_type": "code",
      "metadata": {
        "id": "RmS-PBYeNA4T",
        "colab_type": "code",
        "colab": {}
      },
      "source": [
        "import batman\n",
        "import numpy as np\n",
        "import matplotlib as plt\n",
        "%matplotlib inline\n",
        "\n",
        "#likelihood function\n",
        "def log_likelihood(theta, x, y, yerr):\n",
        "  t0_2, rp, ecc_2, log_f = theta\n",
        "  params2 = batman.TransitParams()\n",
        "  params2.t0 = t0_2                   #from theta\n",
        "  params2.per = 4.066499              #from paper\n",
        "  params2.rp = rp                     #from theta\n",
        "  params2.a = 0.04394                 #from paper\n",
        "  params2.inc = 87.98                 #from paper\n",
        "  params2.ecc = ecc_2                 #from theta\n",
        "  params2.w = 0                       #(set this to 0)\n",
        "  params2.limb_dark = \"nonlinear\"\n",
        "  params2.u = [0.5,0.1,0.1,0.1] #(set these to be constant) \n",
        "  \n",
        "  t2 = np.linspace(-0.025, 0.025, 100)\n",
        "  m = batman.TransitModel(params2, t2)    #initializes model\n",
        "  sigma2 = (yerr ** 2 + m.light_curve(params2)) ** 2 * np.exp(2 * log_f)\n",
        "  return -0.5 * np.sum((y - m.light_curve(params2)) ** 2 / sigma2 + np.log(sigma2))"
      ],
      "execution_count": null,
      "outputs": []
    },
    {
      "cell_type": "code",
      "metadata": {
        "id": "3HoL9ZU-MXwg",
        "colab_type": "code",
        "colab": {
          "base_uri": "https://localhost:8080/",
          "height": 235
        },
        "outputId": "26e794af-6ce3-4ee1-d458-6060b8901efd"
      },
      "source": [
        "from scipy.optimize import minimize\n",
        "\n",
        "nll = lambda *args: -log_likelihood(*args)\n",
        "#initial = np.array([t0, per, a, inc, ecc, np.log(f_true)]) + 0.1 * np.random.randn(3)\n",
        "initial = np.array(log_likelihood([2458658.74627,3.65,0.22,np.log(f)], )) + 0.1 * np.random.randn(3)\n",
        "soln = minimize(nll, initial, args=(x, y, yerr))\n",
        "per_ml, a_ml, inc_ml, w_ml, log_f_ml = soln.x\n",
        "\n",
        "flux = m.light_curve(params2) \n",
        "  \n",
        "radii = np.linspace(0.09, 0.11, 20)\n",
        "for r in radii:\n",
        "      params2.rp = r                           #updates planet radius\n",
        "      new_flux = m.light_curve(params2)        #recalculates light curve\n",
        "\n",
        "ld_options = [\"uniform\", \"linear\", \"quadratic\", \"nonlinear\"]\n",
        "ld_coefficients = [[], [0.3], [0.1, 0.3], [0.5, 0.1, 0.1, -0.1]]\n",
        "\n",
        "plt.figure()\n",
        "\n",
        "for i in range(4):\n",
        "      params2.limb_dark = ld_options[i]          #specifies the LD profile\n",
        "      params2.u = ld_coefficients[i]             #updates LD coefficients\n",
        "      m = batman.TransitModel(params2, t)        #initializes the model\n",
        "      flux = m.light_curve(params2)              #calculates light curve\n",
        "      plt.plot(t, flux, label = ld_options[i])\n",
        "\n",
        "# plt.errorbar(x, y, yerr=yerr, fmt=\".k\", capsize=0)\n",
        "# plt.plot(m.light_, \"k\", alpha=0.3, lw=3, label=\"Not Fitted to Data\")\n",
        "# plt.plot(, \"r\", alpha=0.5, lw=4, label=\"Fitted Model to Data\")\n",
        "# plt.legend(fontsize=14)\n",
        "# plt.xlim(0, 10)\n",
        "# plt.xlabel(\"x\")\n",
        "# plt.ylabel(\"y\");"
      ],
      "execution_count": null,
      "outputs": [
        {
          "output_type": "error",
          "ename": "NameError",
          "evalue": "ignored",
          "traceback": [
            "\u001b[0;31m---------------------------------------------------------------------------\u001b[0m",
            "\u001b[0;31mNameError\u001b[0m                                 Traceback (most recent call last)",
            "\u001b[0;32m<ipython-input-4-c0950d731740>\u001b[0m in \u001b[0;36m<module>\u001b[0;34m()\u001b[0m\n\u001b[1;32m      2\u001b[0m \u001b[0;34m\u001b[0m\u001b[0m\n\u001b[1;32m      3\u001b[0m \u001b[0mnll\u001b[0m \u001b[0;34m=\u001b[0m \u001b[0;32mlambda\u001b[0m \u001b[0;34m*\u001b[0m\u001b[0margs\u001b[0m\u001b[0;34m:\u001b[0m \u001b[0;34m-\u001b[0m\u001b[0mlog_likelihood\u001b[0m\u001b[0;34m(\u001b[0m\u001b[0;34m*\u001b[0m\u001b[0margs\u001b[0m\u001b[0;34m)\u001b[0m\u001b[0;34m\u001b[0m\u001b[0;34m\u001b[0m\u001b[0m\n\u001b[0;32m----> 4\u001b[0;31m \u001b[0minitial\u001b[0m \u001b[0;34m=\u001b[0m \u001b[0mnp\u001b[0m\u001b[0;34m.\u001b[0m\u001b[0marray\u001b[0m\u001b[0;34m(\u001b[0m\u001b[0;34m[\u001b[0m\u001b[0mt0\u001b[0m\u001b[0;34m,\u001b[0m \u001b[0mper\u001b[0m\u001b[0;34m,\u001b[0m \u001b[0ma\u001b[0m\u001b[0;34m,\u001b[0m \u001b[0minc\u001b[0m\u001b[0;34m,\u001b[0m \u001b[0mecc\u001b[0m\u001b[0;34m,\u001b[0m \u001b[0mnp\u001b[0m\u001b[0;34m.\u001b[0m\u001b[0mlog\u001b[0m\u001b[0;34m(\u001b[0m\u001b[0mf_true\u001b[0m\u001b[0;34m)\u001b[0m\u001b[0;34m]\u001b[0m\u001b[0;34m)\u001b[0m \u001b[0;34m+\u001b[0m \u001b[0;36m0.1\u001b[0m \u001b[0;34m*\u001b[0m \u001b[0mnp\u001b[0m\u001b[0;34m.\u001b[0m\u001b[0mrandom\u001b[0m\u001b[0;34m.\u001b[0m\u001b[0mrandn\u001b[0m\u001b[0;34m(\u001b[0m\u001b[0;36m3\u001b[0m\u001b[0;34m)\u001b[0m\u001b[0;34m\u001b[0m\u001b[0;34m\u001b[0m\u001b[0m\n\u001b[0m\u001b[1;32m      5\u001b[0m \u001b[0msoln\u001b[0m \u001b[0;34m=\u001b[0m \u001b[0mminimize\u001b[0m\u001b[0;34m(\u001b[0m\u001b[0mnll\u001b[0m\u001b[0;34m,\u001b[0m \u001b[0minitial\u001b[0m\u001b[0;34m,\u001b[0m \u001b[0margs\u001b[0m\u001b[0;34m=\u001b[0m\u001b[0;34m(\u001b[0m\u001b[0mx\u001b[0m\u001b[0;34m,\u001b[0m \u001b[0my\u001b[0m\u001b[0;34m,\u001b[0m \u001b[0myerr\u001b[0m\u001b[0;34m)\u001b[0m\u001b[0;34m)\u001b[0m\u001b[0;34m\u001b[0m\u001b[0;34m\u001b[0m\u001b[0m\n\u001b[1;32m      6\u001b[0m \u001b[0mper_ml\u001b[0m\u001b[0;34m,\u001b[0m \u001b[0ma_ml\u001b[0m\u001b[0;34m,\u001b[0m \u001b[0minc_ml\u001b[0m\u001b[0;34m,\u001b[0m \u001b[0mw_ml\u001b[0m\u001b[0;34m,\u001b[0m \u001b[0mlog_f_ml\u001b[0m \u001b[0;34m=\u001b[0m \u001b[0msoln\u001b[0m\u001b[0;34m.\u001b[0m\u001b[0mx\u001b[0m\u001b[0;34m\u001b[0m\u001b[0;34m\u001b[0m\u001b[0m\n",
            "\u001b[0;31mNameError\u001b[0m: name 't0' is not defined"
          ]
        }
      ]
    }
  ]
}