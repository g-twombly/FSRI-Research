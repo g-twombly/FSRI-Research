{
 "cells": [
  {
   "cell_type": "code",
   "execution_count": 31,
   "metadata": {},
   "outputs": [
    {
     "name": "stdout",
     "output_type": "stream",
     "text": [
      "The final position for Earth: {'x': 1.0, 'y': 0.06280000000000001}\n",
      "The final velocity for Earth: {'x': -0.16373226657391637, 'y': 6.637761529366169}\n"
     ]
    }
   ],
   "source": [
    "import numpy as np\n",
    "import matplotlib.pyplot as plt\n",
    "\n",
    "\n",
    "#Define variables, initial positions, initial velocities (work in Cartesian).\n",
    "\n",
    "pis = {'x': 0, 'y': 0}\n",
    "\n",
    "vis = {'x': 0, 'y': 0}\n",
    "\n",
    "\n",
    "pie = {'x': 1, 'y': 0}\n",
    "\n",
    "vie = {'x': 0, 'y': 6.28}\n",
    "\n",
    "\n",
    "ms = 1\n",
    "\n",
    "me = 1/330000\n",
    "\n",
    "G = 39.5\n",
    "\n",
    "\n",
    "#computing final position\n",
    "\n",
    "pfe = {'x': 0, 'y': 0}\n",
    "\n",
    "\n",
    "pfe['x'] = pie['x'] + vie['x'] * 0.01\n",
    "\n",
    "\n",
    "pfe['y'] = pie['y'] + vie['y'] * 0.01\n",
    "\n",
    "\n",
    "sum_p = pfe['x'] ** 2 + pfe['y'] ** 2\n",
    "\n",
    "\n",
    "rhat = sum_p ** (1/2)\n",
    "\n",
    "\n",
    "theta = 2\n",
    "\n",
    "\n",
    "#theta = np.arctan(pfe['y'], pfe['x'])\n",
    "\n",
    "\n",
    "#force equation\n",
    "\n",
    "F = (G * ms * me) / ((rhat)**2)\n",
    "\n",
    "Fx = F * np.cos(theta)\n",
    "\n",
    "Fy = F * np.sin(theta)\n",
    "\n",
    "\n",
    "#acceleration\n",
    "\n",
    "ax = Fx / me\n",
    "\n",
    "ay = Fy / me\n",
    "\n",
    "\n",
    "#final velocities\n",
    "\n",
    "vfe = {'x': 0, 'y': 0}\n",
    "\n",
    "\n",
    "vfe['x'] = vie['x'] + ax * 0.01\n",
    "\n",
    "\n",
    "vfe['y'] = vie['y'] + ay * 0.01\n",
    "\n",
    "\n",
    "#results\n",
    "\n",
    "print(\"The final position for Earth: \" + str(pfe))\n",
    "print(\"The final velocity for Earth: \" + str(vfe))"
   ]
  },
  {
   "cell_type": "code",
   "execution_count": null,
   "metadata": {},
   "outputs": [],
   "source": []
  },
  {
   "cell_type": "code",
   "execution_count": null,
   "metadata": {},
   "outputs": [],
   "source": []
  }
 ],
 "metadata": {
  "kernelspec": {
   "display_name": "Python 3",
   "language": "python",
   "name": "python3"
  },
  "language_info": {
   "codemirror_mode": {
    "name": "ipython",
    "version": 3
   },
   "file_extension": ".py",
   "mimetype": "text/x-python",
   "name": "python",
   "nbconvert_exporter": "python",
   "pygments_lexer": "ipython3",
   "version": "3.7.6"
  }
 },
 "nbformat": 4,
 "nbformat_minor": 4
}
