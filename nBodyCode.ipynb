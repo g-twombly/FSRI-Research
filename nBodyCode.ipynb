{
 "cells": [
  {
   "cell_type": "code",
   "execution_count": null,
   "metadata": {},
   "outputs": [],
   "source": [
    "#Define variables, initial positions, initial velocities (work in Cartesian).\n",
    "\n",
    "initial_pos = 0\n",
    "final_pos = 0\n",
    "\n",
    "initial_vel = 0\n",
    "final_vel = 0\n",
    "\n",
    "\n",
    "#Create a function for the force equation and use the variable positions to compute the changes in velocities.\n",
    "\n",
    "\n",
    "\n",
    "#Update velocities by using a Euler approximation and updating xyz coordinates separately, or incorporating a kinematic equation into the function to increase precision.\n",
    "\n",
    "#Compute angle (r hat) using the positions and trig function.\n",
    "\n",
    "#Update positions and velocities to new values.\n",
    "\n",
    "#Print.\n",
    "\n",
    "#Then do it over again using while or for loops.\n",
    "\n",
    "#Save results, initial/final variables and other changes or results from functions, in arrays or spreadsheets.\n"
   ]
  }
 ],
 "metadata": {
  "kernelspec": {
   "display_name": "Python 3",
   "language": "python",
   "name": "python3"
  },
  "language_info": {
   "codemirror_mode": {
    "name": "ipython",
    "version": 3
   },
   "file_extension": ".py",
   "mimetype": "text/x-python",
   "name": "python",
   "nbconvert_exporter": "python",
   "pygments_lexer": "ipython3",
   "version": "3.7.6"
  }
 },
 "nbformat": 4,
 "nbformat_minor": 4
}
