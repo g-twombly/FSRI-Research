{
 "cells": [
  {
   "cell_type": "code",
   "execution_count": 28,
   "metadata": {},
   "outputs": [
    {
     "name": "stdout",
     "output_type": "stream",
     "text": [
      "39.5\n",
      "0.0\n"
     ]
    }
   ],
   "source": [
    "import numpy as np\n",
    "import matplotlib.pyplot as plt\n",
    "import math as math\n",
    "\n",
    "\n",
    "#Define variables, initial positions, initial velocities (work in Cartesian).\n",
    "\n",
    "pis = {'x': 0.0, 'y': 0.0}\n",
    "\n",
    "vis = {'x': 0.0, 'y': 0.0}\n",
    "\n",
    "\n",
    "pie = {'x': 1.0, 'y': 0.0}\n",
    "\n",
    "vie = {'x': 0.0, 'y': 6.28}\n",
    "\n",
    "\n",
    "ms = 1.0\n",
    "\n",
    "me = 0.00000303\n",
    "\n",
    "g = 39.5\n",
    "\n",
    "\n",
    "#theta and rhat\n",
    "\n",
    "theta = np.arctan2(pie['y'], pie['x'])\n",
    "\n",
    "sum_p = (pie['x'] ** 2.0) + (pie['y'] ** 2.0)\n",
    "\n",
    "rhat = np.sqrt(sum_p)\n",
    "\n",
    "\n",
    "# #force equation\n",
    "\n",
    "f = g * ms * me / (rhat)**2.0\n",
    "\n",
    "fx = f * np.cos(theta)\n",
    "\n",
    "fy = f * np.sin(theta)\n",
    "\n",
    "\n",
    "# #acceleration\n",
    "\n",
    "acc = {'x': 0.0, 'y': 0.0}\n",
    "\n",
    "acc['x'] = (fx) / me\n",
    "\n",
    "acc['y'] = (fy) / me\n",
    "\n",
    "print(str(acc['x']))\n",
    "print(str(acc['y']))\n",
    "\n",
    "\n",
    "# #final velocities\n",
    "\n",
    "# dt = 0.01\n",
    "\n",
    "\n",
    "# vfe = {'x': 0.0, 'y': 0.0}\n",
    "\n",
    "\n",
    "# vfe['x'] = vie['x'] + (acc['x'] * dt)\n",
    "\n",
    "\n",
    "# vfe['y'] = vie['y'] + (acc['y'] * dt)\n",
    "\n",
    "\n",
    "# #computing final position\n",
    "\n",
    "# pfe = {'x': 0.0, 'y': 0.0}\n",
    "\n",
    "\n",
    "# pfe['x'] = pie['x'] + (vie['x'] * 0.01)\n",
    "\n",
    "\n",
    "# pfe['y'] = pie['y'] + (vie['y'] * 0.01)\n",
    "\n",
    "\n",
    "# #results\n",
    "\n",
    "# print(\"The final position for Earth: \" + str(pfe))\n",
    "# # print(\"The final velocity for Earth: \" + str(vfe))"
   ]
  },
  {
   "cell_type": "code",
   "execution_count": null,
   "metadata": {},
   "outputs": [],
   "source": []
  },
  {
   "cell_type": "code",
   "execution_count": null,
   "metadata": {},
   "outputs": [],
   "source": []
  }
 ],
 "metadata": {
  "kernelspec": {
   "display_name": "Python 3",
   "language": "python",
   "name": "python3"
  },
  "language_info": {
   "codemirror_mode": {
    "name": "ipython",
    "version": 3
   },
   "file_extension": ".py",
   "mimetype": "text/x-python",
   "name": "python",
   "nbconvert_exporter": "python",
   "pygments_lexer": "ipython3",
   "version": "3.7.6"
  }
 },
 "nbformat": 4,
 "nbformat_minor": 4
}
